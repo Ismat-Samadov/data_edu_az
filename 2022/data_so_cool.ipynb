{
 "cells": [
  {
   "cell_type": "code",
   "execution_count": null,
   "id": "9053e851-0f5e-4edc-9513-424382bcb48a",
   "metadata": {},
   "outputs": [],
   "source": [
    "from selenium import webdriver\n",
    "import pandas as pd\n",
    "import pandas as pd\n",
    "import numpy as np\n",
    "from bs4 import BeautifulSoup\n",
    "import requests\n",
    "import re \n",
    "from matplotlib import pyplot as plt\n",
    "import seaborn as sns\n",
    "import time\n",
    "import urllib3\n",
    "pd.plotting.register_matplotlib_converters()\n",
    "from warnings import filterwarnings\n",
    "filterwarnings('ignore')\n",
    "# %matplotlib inline\n",
    "print(\"Setup Complete\")"
   ]
  },
  {
   "cell_type": "markdown",
   "id": "62f196ab-4a97-48a4-b388-947498714916",
   "metadata": {},
   "source": [
    "## Exploring"
   ]
  },
  {
   "cell_type": "code",
   "execution_count": null,
   "id": "1e0ca05a-9462-434d-a5e9-4b1260d9edf9",
   "metadata": {},
   "outputs": [],
   "source": []
  },
  {
   "cell_type": "code",
   "execution_count": 377,
   "id": "dc3635ce-d5d3-457f-8769-cde231665108",
   "metadata": {},
   "outputs": [],
   "source": [
    "url = 'https://data.edu.az/az/verified/2022001/'\n",
    "page = requests.get(url)\n",
    "html = BeautifulSoup(page.content, 'html.parser')\n",
    "student = html.find_all('h1', class_ = 'kingster-page-title')"
   ]
  },
  {
   "cell_type": "code",
   "execution_count": 52,
   "id": "e6ffb2a9-bf62-4858-8b0d-2559d6eba391",
   "metadata": {},
   "outputs": [
    {
     "name": "stdout",
     "output_type": "stream",
     "text": [
      "Yasaman Abbaszada\n"
     ]
    }
   ],
   "source": [
    "name=re.sub('<[^>]+>' , ' ', str(student)).strip().split()[1]\n",
    "surname=re.sub('<[^>]+>' , ' ', str(student)).strip().split()[2]\n",
    "print(name,surname)"
   ]
  },
  {
   "cell_type": "code",
   "execution_count": 385,
   "id": "c43a9914-3598-4022-afc4-d5d467d82e8c",
   "metadata": {},
   "outputs": [
    {
     "data": {
      "text/plain": [
       "'[ Yasaman Abbaszada ]'"
      ]
     },
     "execution_count": 385,
     "metadata": {},
     "output_type": "execute_result"
    }
   ],
   "source": [
    "' '.join(re.sub('<[^>]+>' , ' ', str(student)).strip().split())"
   ]
  },
  {
   "cell_type": "code",
   "execution_count": null,
   "id": "3ab51b3f-fe81-468c-b1e4-cfef272845c1",
   "metadata": {},
   "outputs": [],
   "source": []
  },
  {
   "cell_type": "code",
   "execution_count": 279,
   "id": "b66db6d1-a865-4a30-8198-138845f4ad17",
   "metadata": {},
   "outputs": [
    {
     "data": {
      "text/plain": [
       "'[ Oracle Database SQL ]'"
      ]
     },
     "execution_count": 279,
     "metadata": {},
     "output_type": "execute_result"
    }
   ],
   "source": [
    "course_info = html.find_all('h1', style = 'color: #002347;font-size: 25px;')\n",
    "course=re.sub('<[^>]+>' , ' ', str(course_info)).strip()\n",
    "course"
   ]
  },
  {
   "cell_type": "code",
   "execution_count": 275,
   "id": "ab39ea93-5e18-4aee-9419-8012abf72c45",
   "metadata": {},
   "outputs": [],
   "source": []
  },
  {
   "cell_type": "code",
   "execution_count": null,
   "id": "d1f48d9f-7d0a-4fa5-b352-a83b405a7234",
   "metadata": {},
   "outputs": [],
   "source": []
  },
  {
   "cell_type": "code",
   "execution_count": 159,
   "id": "b5776601-a24a-44d4-abd7-3cec6c2ea160",
   "metadata": {},
   "outputs": [
    {
     "data": {
      "text/plain": [
       "'1-Fevral-2022'"
      ]
     },
     "execution_count": 159,
     "metadata": {},
     "output_type": "execute_result"
    }
   ],
   "source": [
    "details = html.find_all('div',class_='course-details')\n",
    "'-'.join((re.sub('<[^>]+>' , ' ', str(details)).strip().split(' ')[12:15]))"
   ]
  },
  {
   "cell_type": "code",
   "execution_count": 150,
   "id": "250548ff-f7c4-4246-9588-f80a69df74fb",
   "metadata": {},
   "outputs": [
    {
     "data": {
      "text/plain": [
       "[<div class=\"course-details\" style=\"padding: 12px 37px 12px 0;\">\n",
       " <h3 class=\"H3_1qzapvr-o_O-weightNormal_s9jwp5-o_O-fontHeadline_1uu0gyz\"><span style=\"color: #002347 !important\">Completed by <strong>Yasaman Abbaszada</strong></span>\n",
       " </h3>\n",
       " <p><strong>1 Fevral 2022</strong></p>\n",
       " <p><strong><span>3months, 12 weeks, 60 hours</span></strong></p>\n",
       " <p></p>\n",
       " <p class=\"account-verification-describtion\"><span>Yasaman Abbaszada’s account is verified. Data SoCool certifies their successful completion of <a class=\"course-link\" href=\"/az/telim/oracle-database-sql-telimi/\" s4=\"\">Oracle Database SQL</a>.</span>\n",
       " </p></div>]"
      ]
     },
     "execution_count": 150,
     "metadata": {},
     "output_type": "execute_result"
    }
   ],
   "source": [
    "details"
   ]
  },
  {
   "cell_type": "code",
   "execution_count": 244,
   "id": "9d294f00-ac08-4098-b533-cd431640ccd5",
   "metadata": {},
   "outputs": [
    {
     "data": {
      "text/plain": [
       "'12-weeks'"
      ]
     },
     "execution_count": 244,
     "metadata": {},
     "output_type": "execute_result"
    }
   ],
   "source": [
    "'-'.join(re.sub('<[^>]+>' , ' ', str(details)).strip().split(' ')[17:19]).replace(',','')"
   ]
  },
  {
   "cell_type": "code",
   "execution_count": 234,
   "id": "c584ddaf-a677-46eb-8faf-4f2584804d5d",
   "metadata": {},
   "outputs": [],
   "source": [
    "details = html.findChild('div',class_='course-details')\n",
    "duration=re.sub('<[^>]+>' , ' ', str(details)).strip().split(' ')[16:21]\n",
    "duration_month=duration[0].replace(',','')\n",
    "duration_index=duration[1:3]\n",
    "duration_week='-'.join(duration_index).replace(',','')\n",
    "duration_index_2=duration[3:5]\n",
    "duration_hours='-'.join(duration_index_2).replace(',','')"
   ]
  },
  {
   "cell_type": "code",
   "execution_count": null,
   "id": "492e6a13-2de5-4595-8d85-e96535c96079",
   "metadata": {},
   "outputs": [],
   "source": []
  },
  {
   "cell_type": "code",
   "execution_count": null,
   "id": "a0aee120-33cf-4efb-9522-a42724438357",
   "metadata": {},
   "outputs": [],
   "source": []
  },
  {
   "cell_type": "code",
   "execution_count": 284,
   "id": "d424d4a1-4f5d-4c82-823a-70eb091b091d",
   "metadata": {},
   "outputs": [
    {
     "data": {
      "text/plain": [
       "'https://data.edu.az/verified/2022001/'"
      ]
     },
     "execution_count": 284,
     "metadata": {},
     "output_type": "execute_result"
    }
   ],
   "source": [
    "link_details = html.find_all('input',style='width:70%;display: inline-flex')\n",
    "link_details=str(link_details)\n",
    "cert_link=link_details.strip().split(' ')[-1].replace('value=\"','').replace('\"/>]','')\n",
    "cert_link"
   ]
  },
  {
   "cell_type": "code",
   "execution_count": null,
   "id": "7d561412-a456-4bef-bb02-e24264a8ffac",
   "metadata": {},
   "outputs": [],
   "source": [
    "str(html.find_all('input',style='width:70%;display: inline-flex')).strip().split(' ')[-1].replace('value=\"','').replace('\"/>]','')"
   ]
  },
  {
   "cell_type": "code",
   "execution_count": null,
   "id": "d33164d0-4dd9-45d8-88a8-530bb209d8d1",
   "metadata": {},
   "outputs": [],
   "source": [
    "link_details = html.find_all('input',style='width:70%;display: inline-flex')\n",
    "# link_details=str(link_details)\n",
    "link_details.strip().split(' ')[-1].replace('value=\"','').replace('\"/>]','')\n"
   ]
  },
  {
   "cell_type": "code",
   "execution_count": null,
   "id": "433fd217-5bf6-4a4f-8460-5489852a6305",
   "metadata": {},
   "outputs": [],
   "source": []
  },
  {
   "cell_type": "code",
   "execution_count": null,
   "id": "4fcb2900-6b50-4a5e-9ebb-fa5728a30dba",
   "metadata": {},
   "outputs": [],
   "source": []
  },
  {
   "cell_type": "code",
   "execution_count": null,
   "id": "f970da2b-e38f-47e4-a1d8-b433ca677632",
   "metadata": {},
   "outputs": [],
   "source": []
  },
  {
   "cell_type": "markdown",
   "id": "c80d949b-f6cc-46db-b937-69e07c583741",
   "metadata": {},
   "source": [
    "## Preparation"
   ]
  },
  {
   "cell_type": "code",
   "execution_count": 302,
   "id": "d42af184-eac6-4551-9376-22fdf3c7bc49",
   "metadata": {},
   "outputs": [
    {
     "name": "stdout",
     "output_type": "stream",
     "text": [
      "CPU times: total: 17.9 s\n",
      "Wall time: 2min 43s\n"
     ]
    },
    {
     "data": {
      "text/html": [
       "<div>\n",
       "<style scoped>\n",
       "    .dataframe tbody tr th:only-of-type {\n",
       "        vertical-align: middle;\n",
       "    }\n",
       "\n",
       "    .dataframe tbody tr th {\n",
       "        vertical-align: top;\n",
       "    }\n",
       "\n",
       "    .dataframe thead th {\n",
       "        text-align: right;\n",
       "    }\n",
       "</style>\n",
       "<table border=\"1\" class=\"dataframe\">\n",
       "  <thead>\n",
       "    <tr style=\"text-align: right;\">\n",
       "      <th></th>\n",
       "      <th>page</th>\n",
       "      <th>surname</th>\n",
       "    </tr>\n",
       "  </thead>\n",
       "  <tbody>\n",
       "    <tr>\n",
       "      <th>0</th>\n",
       "      <td>2022001</td>\n",
       "      <td>Abbaszada</td>\n",
       "    </tr>\n",
       "    <tr>\n",
       "      <th>1</th>\n",
       "      <td>2022003</td>\n",
       "      <td>Juvarov</td>\n",
       "    </tr>\n",
       "    <tr>\n",
       "      <th>2</th>\n",
       "      <td>2022004</td>\n",
       "      <td>Huseynov</td>\n",
       "    </tr>\n",
       "    <tr>\n",
       "      <th>3</th>\n",
       "      <td>2022006</td>\n",
       "      <td>Ramazanova</td>\n",
       "    </tr>\n",
       "    <tr>\n",
       "      <th>4</th>\n",
       "      <td>2022007</td>\n",
       "      <td>Ahmadova</td>\n",
       "    </tr>\n",
       "    <tr>\n",
       "      <th>...</th>\n",
       "      <td>...</td>\n",
       "      <td>...</td>\n",
       "    </tr>\n",
       "    <tr>\n",
       "      <th>232</th>\n",
       "      <td>2022258</td>\n",
       "      <td>Jafarova</td>\n",
       "    </tr>\n",
       "    <tr>\n",
       "      <th>233</th>\n",
       "      <td>2022259</td>\n",
       "      <td>Guseynova</td>\n",
       "    </tr>\n",
       "    <tr>\n",
       "      <th>234</th>\n",
       "      <td>2022260</td>\n",
       "      <td>İsmayilov</td>\n",
       "    </tr>\n",
       "    <tr>\n",
       "      <th>235</th>\n",
       "      <td>2022500</td>\n",
       "      <td>Mammadli</td>\n",
       "    </tr>\n",
       "    <tr>\n",
       "      <th>236</th>\n",
       "      <td>2022800</td>\n",
       "      <td>Hajiyev</td>\n",
       "    </tr>\n",
       "  </tbody>\n",
       "</table>\n",
       "<p>237 rows × 2 columns</p>\n",
       "</div>"
      ],
      "text/plain": [
       "        page     surname\n",
       "0    2022001   Abbaszada\n",
       "1    2022003     Juvarov\n",
       "2    2022004    Huseynov\n",
       "3    2022006  Ramazanova\n",
       "4    2022007    Ahmadova\n",
       "..       ...         ...\n",
       "232  2022258    Jafarova\n",
       "233  2022259   Guseynova\n",
       "234  2022260   İsmayilov\n",
       "235  2022500    Mammadli\n",
       "236  2022800     Hajiyev\n",
       "\n",
       "[237 rows x 2 columns]"
      ]
     },
     "execution_count": 302,
     "metadata": {},
     "output_type": "execute_result"
    }
   ],
   "source": [
    "%%time\n",
    "surname=[]\n",
    "surname_df=pd.DataFrame()\n",
    "\n",
    "for page_num in range(2022001,2022999):\n",
    "    url = f'https://data.edu.az/az/verified/{page_num}/'\n",
    "    page = requests.get(url)\n",
    "    html = BeautifulSoup(page.content, 'html.parser')\n",
    "    student = html.find_all('h1', class_ = 'kingster-page-title')\n",
    "    for i in range (len(student)):\n",
    "        surname_cleaned=re.sub('<[^>]+>' , ' ', str(student[i])).strip().split()[1]\n",
    "        surname.append({'page':page_num,'surname':surname_cleaned})\n",
    "        surname_df=pd.DataFrame(surname)\n",
    "surname_df"
   ]
  },
  {
   "cell_type": "code",
   "execution_count": 43,
   "id": "d10076ca-5681-4007-9240-9e644cb408e7",
   "metadata": {},
   "outputs": [],
   "source": []
  },
  {
   "cell_type": "code",
   "execution_count": null,
   "id": "904f3344-2957-4613-b027-88054659100f",
   "metadata": {},
   "outputs": [],
   "source": []
  },
  {
   "cell_type": "code",
   "execution_count": 303,
   "id": "c21cb0e9-31e6-4f8b-b551-0bd399a668fc",
   "metadata": {},
   "outputs": [
    {
     "name": "stdout",
     "output_type": "stream",
     "text": [
      "CPU times: total: 19.2 s\n",
      "Wall time: 2min 52s\n"
     ]
    },
    {
     "data": {
      "text/html": [
       "<div>\n",
       "<style scoped>\n",
       "    .dataframe tbody tr th:only-of-type {\n",
       "        vertical-align: middle;\n",
       "    }\n",
       "\n",
       "    .dataframe tbody tr th {\n",
       "        vertical-align: top;\n",
       "    }\n",
       "\n",
       "    .dataframe thead th {\n",
       "        text-align: right;\n",
       "    }\n",
       "</style>\n",
       "<table border=\"1\" class=\"dataframe\">\n",
       "  <thead>\n",
       "    <tr style=\"text-align: right;\">\n",
       "      <th></th>\n",
       "      <th>page</th>\n",
       "      <th>name</th>\n",
       "    </tr>\n",
       "  </thead>\n",
       "  <tbody>\n",
       "    <tr>\n",
       "      <th>0</th>\n",
       "      <td>2022001</td>\n",
       "      <td>Yasaman</td>\n",
       "    </tr>\n",
       "    <tr>\n",
       "      <th>1</th>\n",
       "      <td>2022003</td>\n",
       "      <td>Elvin</td>\n",
       "    </tr>\n",
       "    <tr>\n",
       "      <th>2</th>\n",
       "      <td>2022004</td>\n",
       "      <td>Rustam</td>\n",
       "    </tr>\n",
       "    <tr>\n",
       "      <th>3</th>\n",
       "      <td>2022006</td>\n",
       "      <td>Faina</td>\n",
       "    </tr>\n",
       "    <tr>\n",
       "      <th>4</th>\n",
       "      <td>2022007</td>\n",
       "      <td>Aisha</td>\n",
       "    </tr>\n",
       "    <tr>\n",
       "      <th>...</th>\n",
       "      <td>...</td>\n",
       "      <td>...</td>\n",
       "    </tr>\n",
       "    <tr>\n",
       "      <th>232</th>\n",
       "      <td>2022258</td>\n",
       "      <td>Almaz</td>\n",
       "    </tr>\n",
       "    <tr>\n",
       "      <th>233</th>\n",
       "      <td>2022259</td>\n",
       "      <td>Maral</td>\n",
       "    </tr>\n",
       "    <tr>\n",
       "      <th>234</th>\n",
       "      <td>2022260</td>\n",
       "      <td>Kanan</td>\n",
       "    </tr>\n",
       "    <tr>\n",
       "      <th>235</th>\n",
       "      <td>2022500</td>\n",
       "      <td>Gunel</td>\n",
       "    </tr>\n",
       "    <tr>\n",
       "      <th>236</th>\n",
       "      <td>2022800</td>\n",
       "      <td>Nijat</td>\n",
       "    </tr>\n",
       "  </tbody>\n",
       "</table>\n",
       "<p>237 rows × 2 columns</p>\n",
       "</div>"
      ],
      "text/plain": [
       "        page     name\n",
       "0    2022001  Yasaman\n",
       "1    2022003    Elvin\n",
       "2    2022004   Rustam\n",
       "3    2022006    Faina\n",
       "4    2022007    Aisha\n",
       "..       ...      ...\n",
       "232  2022258    Almaz\n",
       "233  2022259    Maral\n",
       "234  2022260    Kanan\n",
       "235  2022500    Gunel\n",
       "236  2022800    Nijat\n",
       "\n",
       "[237 rows x 2 columns]"
      ]
     },
     "execution_count": 303,
     "metadata": {},
     "output_type": "execute_result"
    }
   ],
   "source": [
    "%%time\n",
    "name=[]\n",
    "name_df=pd.DataFrame()\n",
    "for page_num in range(2022001,2022999):\n",
    "    url = f'https://data.edu.az/az/verified/{page_num}/'\n",
    "    page = requests.get(url)\n",
    "    html = BeautifulSoup(page.content, 'html.parser')\n",
    "    student = html.find_all('h1', class_ = 'kingster-page-title')\n",
    "    for i in range (len(student)):\n",
    "        name_cleaned=re.sub('<[^>]+>' , ' ', str(student[i])).strip().split()[0]\n",
    "        name.append({'page':page_num,'name':name_cleaned})\n",
    "        name_df=pd.DataFrame(name)\n",
    "name_df"
   ]
  },
  {
   "cell_type": "code",
   "execution_count": null,
   "id": "643474e0-60ca-459c-a5b9-748a43ef3efc",
   "metadata": {},
   "outputs": [],
   "source": []
  },
  {
   "cell_type": "code",
   "execution_count": null,
   "id": "7711d10c-554e-4a3a-af0c-b4bc6f8a0dfa",
   "metadata": {},
   "outputs": [],
   "source": []
  },
  {
   "cell_type": "code",
   "execution_count": 304,
   "id": "a37cdd35-0a51-4fcd-9e1d-a8145cac5fa9",
   "metadata": {},
   "outputs": [
    {
     "name": "stdout",
     "output_type": "stream",
     "text": [
      "CPU times: total: 18.4 s\n",
      "Wall time: 2min 43s\n"
     ]
    },
    {
     "data": {
      "text/html": [
       "<div>\n",
       "<style scoped>\n",
       "    .dataframe tbody tr th:only-of-type {\n",
       "        vertical-align: middle;\n",
       "    }\n",
       "\n",
       "    .dataframe tbody tr th {\n",
       "        vertical-align: top;\n",
       "    }\n",
       "\n",
       "    .dataframe thead th {\n",
       "        text-align: right;\n",
       "    }\n",
       "</style>\n",
       "<table border=\"1\" class=\"dataframe\">\n",
       "  <thead>\n",
       "    <tr style=\"text-align: right;\">\n",
       "      <th></th>\n",
       "      <th>page</th>\n",
       "      <th>course_name</th>\n",
       "    </tr>\n",
       "  </thead>\n",
       "  <tbody>\n",
       "    <tr>\n",
       "      <th>0</th>\n",
       "      <td>2022001</td>\n",
       "      <td>Oracle Database SQL</td>\n",
       "    </tr>\n",
       "    <tr>\n",
       "      <th>1</th>\n",
       "      <td>2022003</td>\n",
       "      <td>Oracle Database SQL</td>\n",
       "    </tr>\n",
       "    <tr>\n",
       "      <th>2</th>\n",
       "      <td>2022004</td>\n",
       "      <td>Oracle Database SQL</td>\n",
       "    </tr>\n",
       "    <tr>\n",
       "      <th>3</th>\n",
       "      <td>2022006</td>\n",
       "      <td>Oracle Database SQL</td>\n",
       "    </tr>\n",
       "    <tr>\n",
       "      <th>4</th>\n",
       "      <td>2022007</td>\n",
       "      <td>Oracle Database SQL</td>\n",
       "    </tr>\n",
       "    <tr>\n",
       "      <th>...</th>\n",
       "      <td>...</td>\n",
       "      <td>...</td>\n",
       "    </tr>\n",
       "    <tr>\n",
       "      <th>232</th>\n",
       "      <td>2022258</td>\n",
       "      <td>Data Science with Python</td>\n",
       "    </tr>\n",
       "    <tr>\n",
       "      <th>233</th>\n",
       "      <td>2022259</td>\n",
       "      <td>Data Science with Python</td>\n",
       "    </tr>\n",
       "    <tr>\n",
       "      <th>234</th>\n",
       "      <td>2022260</td>\n",
       "      <td>Data Science with Python</td>\n",
       "    </tr>\n",
       "    <tr>\n",
       "      <th>235</th>\n",
       "      <td>2022500</td>\n",
       "      <td>Oracle Database SQL</td>\n",
       "    </tr>\n",
       "    <tr>\n",
       "      <th>236</th>\n",
       "      <td>2022800</td>\n",
       "      <td>Professional Reporting with Power BI</td>\n",
       "    </tr>\n",
       "  </tbody>\n",
       "</table>\n",
       "<p>237 rows × 2 columns</p>\n",
       "</div>"
      ],
      "text/plain": [
       "        page                           course_name\n",
       "0    2022001                   Oracle Database SQL\n",
       "1    2022003                   Oracle Database SQL\n",
       "2    2022004                   Oracle Database SQL\n",
       "3    2022006                   Oracle Database SQL\n",
       "4    2022007                   Oracle Database SQL\n",
       "..       ...                                   ...\n",
       "232  2022258              Data Science with Python\n",
       "233  2022259              Data Science with Python\n",
       "234  2022260              Data Science with Python\n",
       "235  2022500                   Oracle Database SQL\n",
       "236  2022800  Professional Reporting with Power BI\n",
       "\n",
       "[237 rows x 2 columns]"
      ]
     },
     "execution_count": 304,
     "metadata": {},
     "output_type": "execute_result"
    }
   ],
   "source": [
    "%%time\n",
    "course=[]\n",
    "course_df=pd.DataFrame()\n",
    "\n",
    "for page_num in range(2022001,2022999):\n",
    "    url = f'https://data.edu.az/az/verified/{page_num}/'\n",
    "    page = requests.get(url)\n",
    "    html = BeautifulSoup(page.content, 'html.parser')\n",
    "    course_info = html.find_all('h1', style = 'color: #002347;font-size: 25px;')\n",
    "    for i in range (len(course_info)):\n",
    "        course_cleaned=re.sub('<[^>]+>' , ' ', str(course_info[i])).strip()\n",
    "        course.append({'page':page_num,'course_name':course_cleaned})\n",
    "        course_df=pd.DataFrame(course)\n",
    "course_df"
   ]
  },
  {
   "cell_type": "code",
   "execution_count": null,
   "id": "7fb1cd67-7da7-45c4-bc7d-1c5812cc0455",
   "metadata": {},
   "outputs": [],
   "source": []
  },
  {
   "cell_type": "code",
   "execution_count": null,
   "id": "3bc3f822-d2d9-4888-9673-970c4080c35c",
   "metadata": {},
   "outputs": [],
   "source": []
  },
  {
   "cell_type": "code",
   "execution_count": 305,
   "id": "e56a5c86-1262-4b68-a3d5-a820d3d47f8d",
   "metadata": {},
   "outputs": [
    {
     "name": "stdout",
     "output_type": "stream",
     "text": [
      "CPU times: total: 18.6 s\n",
      "Wall time: 2min 49s\n"
     ]
    },
    {
     "data": {
      "text/html": [
       "<div>\n",
       "<style scoped>\n",
       "    .dataframe tbody tr th:only-of-type {\n",
       "        vertical-align: middle;\n",
       "    }\n",
       "\n",
       "    .dataframe tbody tr th {\n",
       "        vertical-align: top;\n",
       "    }\n",
       "\n",
       "    .dataframe thead th {\n",
       "        text-align: right;\n",
       "    }\n",
       "</style>\n",
       "<table border=\"1\" class=\"dataframe\">\n",
       "  <thead>\n",
       "    <tr style=\"text-align: right;\">\n",
       "      <th></th>\n",
       "      <th>page</th>\n",
       "      <th>graduate_date</th>\n",
       "    </tr>\n",
       "  </thead>\n",
       "  <tbody>\n",
       "    <tr>\n",
       "      <th>0</th>\n",
       "      <td>2022001</td>\n",
       "      <td>1-Fevral-2022</td>\n",
       "    </tr>\n",
       "    <tr>\n",
       "      <th>1</th>\n",
       "      <td>2022003</td>\n",
       "      <td>1-Fevral-2022</td>\n",
       "    </tr>\n",
       "    <tr>\n",
       "      <th>2</th>\n",
       "      <td>2022004</td>\n",
       "      <td>1-Fevral-2022</td>\n",
       "    </tr>\n",
       "    <tr>\n",
       "      <th>3</th>\n",
       "      <td>2022006</td>\n",
       "      <td>1-Fevral-2022</td>\n",
       "    </tr>\n",
       "    <tr>\n",
       "      <th>4</th>\n",
       "      <td>2022007</td>\n",
       "      <td>1-Fevral-2022</td>\n",
       "    </tr>\n",
       "    <tr>\n",
       "      <th>...</th>\n",
       "      <td>...</td>\n",
       "      <td>...</td>\n",
       "    </tr>\n",
       "    <tr>\n",
       "      <th>232</th>\n",
       "      <td>2022258</td>\n",
       "      <td>21-Sentyabr-2022</td>\n",
       "    </tr>\n",
       "    <tr>\n",
       "      <th>233</th>\n",
       "      <td>2022259</td>\n",
       "      <td>21-Sentyabr-2022</td>\n",
       "    </tr>\n",
       "    <tr>\n",
       "      <th>234</th>\n",
       "      <td>2022260</td>\n",
       "      <td>21-Sentyabr-2022</td>\n",
       "    </tr>\n",
       "    <tr>\n",
       "      <th>235</th>\n",
       "      <td>2022500</td>\n",
       "      <td>28-Avqust-2022</td>\n",
       "    </tr>\n",
       "    <tr>\n",
       "      <th>236</th>\n",
       "      <td>2022800</td>\n",
       "      <td>29-Sentyabr-2022</td>\n",
       "    </tr>\n",
       "  </tbody>\n",
       "</table>\n",
       "<p>237 rows × 2 columns</p>\n",
       "</div>"
      ],
      "text/plain": [
       "        page     graduate_date\n",
       "0    2022001     1-Fevral-2022\n",
       "1    2022003     1-Fevral-2022\n",
       "2    2022004     1-Fevral-2022\n",
       "3    2022006     1-Fevral-2022\n",
       "4    2022007     1-Fevral-2022\n",
       "..       ...               ...\n",
       "232  2022258  21-Sentyabr-2022\n",
       "233  2022259  21-Sentyabr-2022\n",
       "234  2022260  21-Sentyabr-2022\n",
       "235  2022500    28-Avqust-2022\n",
       "236  2022800  29-Sentyabr-2022\n",
       "\n",
       "[237 rows x 2 columns]"
      ]
     },
     "execution_count": 305,
     "metadata": {},
     "output_type": "execute_result"
    }
   ],
   "source": [
    "%%time\n",
    "graduate_date_info=[]\n",
    "graduate_date_info_df=pd.DataFrame()\n",
    "for page_num in range(2022001,2022999):\n",
    "    url = f'https://data.edu.az/az/verified/{page_num}/'\n",
    "    page = requests.get(url)\n",
    "    html = BeautifulSoup(page.content, 'html.parser')\n",
    "    details = html.find_all('div',class_='course-details')\n",
    "    for i in range(len(details)):\n",
    "        graduate_cleaned='-'.join((re.sub('<[^>]+>' , ' ', str(details)).strip().split(' ')[12:15]))\n",
    "        graduate_date_info.append({'page':page_num,'graduate_date':graduate_cleaned})\n",
    "        graduate_date_info_df=pd.DataFrame(graduate_date_info)    \n",
    "graduate_date_info_df"
   ]
  },
  {
   "cell_type": "code",
   "execution_count": null,
   "id": "cc4cf074-a8c6-4091-8d34-60756dd28847",
   "metadata": {},
   "outputs": [],
   "source": []
  },
  {
   "cell_type": "code",
   "execution_count": null,
   "id": "1ce94737-82d0-4b8c-81fa-6e457b5b8759",
   "metadata": {},
   "outputs": [],
   "source": []
  },
  {
   "cell_type": "code",
   "execution_count": 306,
   "id": "80c1bece-b931-47c7-b4d9-ef8192ab6e34",
   "metadata": {},
   "outputs": [
    {
     "name": "stdout",
     "output_type": "stream",
     "text": [
      "CPU times: total: 18.8 s\n",
      "Wall time: 2min 54s\n"
     ]
    },
    {
     "data": {
      "text/html": [
       "<div>\n",
       "<style scoped>\n",
       "    .dataframe tbody tr th:only-of-type {\n",
       "        vertical-align: middle;\n",
       "    }\n",
       "\n",
       "    .dataframe tbody tr th {\n",
       "        vertical-align: top;\n",
       "    }\n",
       "\n",
       "    .dataframe thead th {\n",
       "        text-align: right;\n",
       "    }\n",
       "</style>\n",
       "<table border=\"1\" class=\"dataframe\">\n",
       "  <thead>\n",
       "    <tr style=\"text-align: right;\">\n",
       "      <th></th>\n",
       "      <th>page</th>\n",
       "      <th>duration_with_month</th>\n",
       "    </tr>\n",
       "  </thead>\n",
       "  <tbody>\n",
       "    <tr>\n",
       "      <th>0</th>\n",
       "      <td>2022001</td>\n",
       "      <td>3months</td>\n",
       "    </tr>\n",
       "    <tr>\n",
       "      <th>1</th>\n",
       "      <td>2022003</td>\n",
       "      <td>3months</td>\n",
       "    </tr>\n",
       "    <tr>\n",
       "      <th>2</th>\n",
       "      <td>2022004</td>\n",
       "      <td>3months</td>\n",
       "    </tr>\n",
       "    <tr>\n",
       "      <th>3</th>\n",
       "      <td>2022006</td>\n",
       "      <td>3months</td>\n",
       "    </tr>\n",
       "    <tr>\n",
       "      <th>4</th>\n",
       "      <td>2022007</td>\n",
       "      <td>3months</td>\n",
       "    </tr>\n",
       "    <tr>\n",
       "      <th>...</th>\n",
       "      <td>...</td>\n",
       "      <td>...</td>\n",
       "    </tr>\n",
       "    <tr>\n",
       "      <th>232</th>\n",
       "      <td>2022258</td>\n",
       "      <td>3months</td>\n",
       "    </tr>\n",
       "    <tr>\n",
       "      <th>233</th>\n",
       "      <td>2022259</td>\n",
       "      <td>3months</td>\n",
       "    </tr>\n",
       "    <tr>\n",
       "      <th>234</th>\n",
       "      <td>2022260</td>\n",
       "      <td>3months</td>\n",
       "    </tr>\n",
       "    <tr>\n",
       "      <th>235</th>\n",
       "      <td>2022500</td>\n",
       "      <td>3months</td>\n",
       "    </tr>\n",
       "    <tr>\n",
       "      <th>236</th>\n",
       "      <td>2022800</td>\n",
       "      <td>1.5</td>\n",
       "    </tr>\n",
       "  </tbody>\n",
       "</table>\n",
       "<p>237 rows × 2 columns</p>\n",
       "</div>"
      ],
      "text/plain": [
       "        page duration_with_month\n",
       "0    2022001             3months\n",
       "1    2022003             3months\n",
       "2    2022004             3months\n",
       "3    2022006             3months\n",
       "4    2022007             3months\n",
       "..       ...                 ...\n",
       "232  2022258             3months\n",
       "233  2022259             3months\n",
       "234  2022260             3months\n",
       "235  2022500             3months\n",
       "236  2022800                 1.5\n",
       "\n",
       "[237 rows x 2 columns]"
      ]
     },
     "execution_count": 306,
     "metadata": {},
     "output_type": "execute_result"
    }
   ],
   "source": [
    "%%time\n",
    "duration_info=[]\n",
    "duration_info_df=pd.DataFrame()\n",
    "for page_num in range(2022001,2022999):\n",
    "    url = f'https://data.edu.az/az/verified/{page_num}/'\n",
    "    page = requests.get(url)\n",
    "    html = BeautifulSoup(page.content, 'html.parser')\n",
    "    details = html.find_all('div',class_='course-details')\n",
    "    for i in range(len(details)):\n",
    "        duration_cleaned=re.sub('<[^>]+>' , ' ', str(details[i])).strip().split(' ')[16:17][0].replace(',','')\n",
    "        duration_info.append({'page':page_num,'duration_with_month':duration_cleaned})\n",
    "        duration_info_df=pd.DataFrame(duration_info)    \n",
    "duration_info_df\n",
    "\n"
   ]
  },
  {
   "cell_type": "code",
   "execution_count": null,
   "id": "ed3454ed-2495-43ef-a59d-5b0508256826",
   "metadata": {},
   "outputs": [],
   "source": []
  },
  {
   "cell_type": "code",
   "execution_count": null,
   "id": "ccbf2f24-0e2d-4097-a9bc-22e699a00cdf",
   "metadata": {},
   "outputs": [],
   "source": []
  },
  {
   "cell_type": "code",
   "execution_count": 307,
   "id": "bdaefd61-b322-4230-b3e2-599fd6e65022",
   "metadata": {},
   "outputs": [
    {
     "name": "stdout",
     "output_type": "stream",
     "text": [
      "CPU times: total: 17.8 s\n",
      "Wall time: 2min 37s\n"
     ]
    },
    {
     "data": {
      "text/html": [
       "<div>\n",
       "<style scoped>\n",
       "    .dataframe tbody tr th:only-of-type {\n",
       "        vertical-align: middle;\n",
       "    }\n",
       "\n",
       "    .dataframe tbody tr th {\n",
       "        vertical-align: top;\n",
       "    }\n",
       "\n",
       "    .dataframe thead th {\n",
       "        text-align: right;\n",
       "    }\n",
       "</style>\n",
       "<table border=\"1\" class=\"dataframe\">\n",
       "  <thead>\n",
       "    <tr style=\"text-align: right;\">\n",
       "      <th></th>\n",
       "      <th>page</th>\n",
       "      <th>duration_with_week</th>\n",
       "    </tr>\n",
       "  </thead>\n",
       "  <tbody>\n",
       "    <tr>\n",
       "      <th>0</th>\n",
       "      <td>2022001</td>\n",
       "      <td>12</td>\n",
       "    </tr>\n",
       "    <tr>\n",
       "      <th>1</th>\n",
       "      <td>2022003</td>\n",
       "      <td>12</td>\n",
       "    </tr>\n",
       "    <tr>\n",
       "      <th>2</th>\n",
       "      <td>2022004</td>\n",
       "      <td>12</td>\n",
       "    </tr>\n",
       "    <tr>\n",
       "      <th>3</th>\n",
       "      <td>2022006</td>\n",
       "      <td>12</td>\n",
       "    </tr>\n",
       "    <tr>\n",
       "      <th>4</th>\n",
       "      <td>2022007</td>\n",
       "      <td>12</td>\n",
       "    </tr>\n",
       "    <tr>\n",
       "      <th>...</th>\n",
       "      <td>...</td>\n",
       "      <td>...</td>\n",
       "    </tr>\n",
       "    <tr>\n",
       "      <th>232</th>\n",
       "      <td>2022258</td>\n",
       "      <td>12</td>\n",
       "    </tr>\n",
       "    <tr>\n",
       "      <th>233</th>\n",
       "      <td>2022259</td>\n",
       "      <td>12</td>\n",
       "    </tr>\n",
       "    <tr>\n",
       "      <th>234</th>\n",
       "      <td>2022260</td>\n",
       "      <td>12</td>\n",
       "    </tr>\n",
       "    <tr>\n",
       "      <th>235</th>\n",
       "      <td>2022500</td>\n",
       "      <td>12</td>\n",
       "    </tr>\n",
       "    <tr>\n",
       "      <th>236</th>\n",
       "      <td>2022800</td>\n",
       "      <td>month</td>\n",
       "    </tr>\n",
       "  </tbody>\n",
       "</table>\n",
       "<p>237 rows × 2 columns</p>\n",
       "</div>"
      ],
      "text/plain": [
       "        page duration_with_week\n",
       "0    2022001                 12\n",
       "1    2022003                 12\n",
       "2    2022004                 12\n",
       "3    2022006                 12\n",
       "4    2022007                 12\n",
       "..       ...                ...\n",
       "232  2022258                 12\n",
       "233  2022259                 12\n",
       "234  2022260                 12\n",
       "235  2022500                 12\n",
       "236  2022800              month\n",
       "\n",
       "[237 rows x 2 columns]"
      ]
     },
     "execution_count": 307,
     "metadata": {},
     "output_type": "execute_result"
    }
   ],
   "source": [
    "%%time\n",
    "duration_info_week=[]\n",
    "duration_info_week_df=pd.DataFrame()\n",
    "for page_num in range(2022001,2022999):\n",
    "    url = f'https://data.edu.az/az/verified/{page_num}/'\n",
    "    page = requests.get(url)\n",
    "    html = BeautifulSoup(page.content, 'html.parser')\n",
    "    details = html.find_all('div',class_='course-details')\n",
    "    for i in range(len(details)):\n",
    "        duration_week_cleaned='-'.join(re.sub('<[^>]+>' , ' ', str(details[i])).strip().split(' ')[17:18]).replace(',','')\n",
    "        duration_info_week.append({'page':page_num,'duration_with_week':duration_week_cleaned})\n",
    "        duration_info_week_df=pd.DataFrame(duration_info_week)    \n",
    "duration_info_week_df\n",
    "\n"
   ]
  },
  {
   "cell_type": "code",
   "execution_count": null,
   "id": "45c6780b-46ab-445f-ae4d-a13e3c4a7a81",
   "metadata": {},
   "outputs": [],
   "source": []
  },
  {
   "cell_type": "code",
   "execution_count": null,
   "id": "9acc711c-e8f6-4cad-ac90-94c65a69b012",
   "metadata": {},
   "outputs": [],
   "source": []
  },
  {
   "cell_type": "code",
   "execution_count": 308,
   "id": "6e1f02a7-6897-4384-ae48-3bb57059d31b",
   "metadata": {},
   "outputs": [
    {
     "name": "stdout",
     "output_type": "stream",
     "text": [
      "CPU times: total: 18.7 s\n",
      "Wall time: 3h 37min 8s\n"
     ]
    },
    {
     "data": {
      "text/html": [
       "<div>\n",
       "<style scoped>\n",
       "    .dataframe tbody tr th:only-of-type {\n",
       "        vertical-align: middle;\n",
       "    }\n",
       "\n",
       "    .dataframe tbody tr th {\n",
       "        vertical-align: top;\n",
       "    }\n",
       "\n",
       "    .dataframe thead th {\n",
       "        text-align: right;\n",
       "    }\n",
       "</style>\n",
       "<table border=\"1\" class=\"dataframe\">\n",
       "  <thead>\n",
       "    <tr style=\"text-align: right;\">\n",
       "      <th></th>\n",
       "      <th>page</th>\n",
       "      <th>certification_link</th>\n",
       "    </tr>\n",
       "  </thead>\n",
       "  <tbody>\n",
       "    <tr>\n",
       "      <th>0</th>\n",
       "      <td>2022001</td>\n",
       "      <td>https://data.edu.az/verified/2022001/</td>\n",
       "    </tr>\n",
       "    <tr>\n",
       "      <th>1</th>\n",
       "      <td>2022003</td>\n",
       "      <td>https://data.edu.az/verified/2022003/</td>\n",
       "    </tr>\n",
       "    <tr>\n",
       "      <th>2</th>\n",
       "      <td>2022004</td>\n",
       "      <td>https://data.edu.az/verified/2022004/</td>\n",
       "    </tr>\n",
       "    <tr>\n",
       "      <th>3</th>\n",
       "      <td>2022006</td>\n",
       "      <td>https://data.edu.az/verified/2022006/</td>\n",
       "    </tr>\n",
       "    <tr>\n",
       "      <th>4</th>\n",
       "      <td>2022007</td>\n",
       "      <td>https://data.edu.az/verified/2022007/</td>\n",
       "    </tr>\n",
       "    <tr>\n",
       "      <th>...</th>\n",
       "      <td>...</td>\n",
       "      <td>...</td>\n",
       "    </tr>\n",
       "    <tr>\n",
       "      <th>232</th>\n",
       "      <td>2022258</td>\n",
       "      <td>https://data.edu.az/verified/2022258/</td>\n",
       "    </tr>\n",
       "    <tr>\n",
       "      <th>233</th>\n",
       "      <td>2022259</td>\n",
       "      <td>https://data.edu.az/verified/2022259/</td>\n",
       "    </tr>\n",
       "    <tr>\n",
       "      <th>234</th>\n",
       "      <td>2022260</td>\n",
       "      <td>https://data.edu.az/verified/2022260/</td>\n",
       "    </tr>\n",
       "    <tr>\n",
       "      <th>235</th>\n",
       "      <td>2022500</td>\n",
       "      <td>https://data.edu.az/verified/2022500/</td>\n",
       "    </tr>\n",
       "    <tr>\n",
       "      <th>236</th>\n",
       "      <td>2022800</td>\n",
       "      <td>https://data.edu.az/verified/2022800/</td>\n",
       "    </tr>\n",
       "  </tbody>\n",
       "</table>\n",
       "<p>237 rows × 2 columns</p>\n",
       "</div>"
      ],
      "text/plain": [
       "        page                     certification_link\n",
       "0    2022001  https://data.edu.az/verified/2022001/\n",
       "1    2022003  https://data.edu.az/verified/2022003/\n",
       "2    2022004  https://data.edu.az/verified/2022004/\n",
       "3    2022006  https://data.edu.az/verified/2022006/\n",
       "4    2022007  https://data.edu.az/verified/2022007/\n",
       "..       ...                                    ...\n",
       "232  2022258  https://data.edu.az/verified/2022258/\n",
       "233  2022259  https://data.edu.az/verified/2022259/\n",
       "234  2022260  https://data.edu.az/verified/2022260/\n",
       "235  2022500  https://data.edu.az/verified/2022500/\n",
       "236  2022800  https://data.edu.az/verified/2022800/\n",
       "\n",
       "[237 rows x 2 columns]"
      ]
     },
     "execution_count": 308,
     "metadata": {},
     "output_type": "execute_result"
    }
   ],
   "source": [
    "%%time\n",
    "cert_list=[]\n",
    "cert_list_df=pd.DataFrame()\n",
    "for page_num in range(2022001,2022999):\n",
    "    url = f'https://data.edu.az/az/verified/{page_num}/'\n",
    "    page = requests.get(url)\n",
    "    html = BeautifulSoup(page.content, 'html.parser')\n",
    "    link_details = html.find_all('input',style='width:70%;display: inline-flex')\n",
    "    for i in range(len(link_details)):\n",
    "        link_details_cleaned=str(link_details).strip().split(' ')[-1].replace('value=\"','').replace('\"/>]','')\n",
    "        cert_list.append({'page':page_num,'certification_link':link_details_cleaned})\n",
    "        cert_list_df=pd.DataFrame(cert_list)    \n",
    "cert_list_df\n",
    "\n"
   ]
  },
  {
   "cell_type": "code",
   "execution_count": null,
   "id": "dd3fe31e-b879-49e2-93f4-5699664c994e",
   "metadata": {},
   "outputs": [],
   "source": []
  },
  {
   "cell_type": "code",
   "execution_count": null,
   "id": "7295b428-28a0-41b5-a493-9691e51ba570",
   "metadata": {},
   "outputs": [],
   "source": []
  },
  {
   "cell_type": "code",
   "execution_count": 309,
   "id": "0323561d-9d13-402e-b1ff-56c1a8bb24c5",
   "metadata": {},
   "outputs": [],
   "source": [
    "name_surname=name_df.merge(surname_df, how='inner', on='page')"
   ]
  },
  {
   "cell_type": "code",
   "execution_count": 310,
   "id": "8c8ff9c5-9544-4118-b848-dae9486f0015",
   "metadata": {},
   "outputs": [],
   "source": [
    "course_name=name_surname.merge(course_df, how='inner', on='page')"
   ]
  },
  {
   "cell_type": "code",
   "execution_count": 311,
   "id": "cfb9f1a6-2651-4aeb-9006-1e4c21899096",
   "metadata": {},
   "outputs": [],
   "source": [
    "course_name_graduate=course_name.merge(graduate_date_info_df, how='inner', on='page')"
   ]
  },
  {
   "cell_type": "code",
   "execution_count": null,
   "id": "594ee07c-5757-4723-9f4f-700adf38b653",
   "metadata": {},
   "outputs": [],
   "source": [
    "course_name_graduate_dur_month=course_name_graduate.merge(duration_info_df, how='inner', on='page')"
   ]
  },
  {
   "cell_type": "code",
   "execution_count": null,
   "id": "4a653061-7f93-49fc-9705-237655d5795f",
   "metadata": {},
   "outputs": [],
   "source": [
    "course_name_graduate_dur_month_week=course_name_graduate_dur_month.merge(duration_info_week_df, how='inner', on='page')"
   ]
  },
  {
   "cell_type": "code",
   "execution_count": null,
   "id": "7ba4d6d7-4fcb-40d0-a7d1-82f488c4e64e",
   "metadata": {},
   "outputs": [],
   "source": [
    "df=course_name_graduate_dur_month_week.merge(cert_list_df, how='inner', on='page')"
   ]
  },
  {
   "cell_type": "code",
   "execution_count": null,
   "id": "9939b1b7-a95d-4019-a058-87f18e299510",
   "metadata": {},
   "outputs": [],
   "source": [
    "df.to_excel('kurs_2021_full.xlsx', engine='xlsxwriter')"
   ]
  },
  {
   "cell_type": "code",
   "execution_count": null,
   "id": "a4ea965a-589d-4256-b955-11176fb6ae33",
   "metadata": {},
   "outputs": [],
   "source": []
  },
  {
   "cell_type": "code",
   "execution_count": null,
   "id": "35e3426b-b001-4a27-aa5c-b89a4e00537f",
   "metadata": {},
   "outputs": [],
   "source": []
  },
  {
   "cell_type": "markdown",
   "id": "37a2d351-c97d-4163-9790-c85965695370",
   "metadata": {},
   "source": [
    "## for 2021"
   ]
  },
  {
   "cell_type": "code",
   "execution_count": null,
   "id": "03f152fb-c47b-4f7a-9095-471b9e11f401",
   "metadata": {},
   "outputs": [],
   "source": [
    "%%time\n",
    "surname=[]\n",
    "surname_df=pd.DataFrame()\n",
    "\n",
    "for page_num in range(2021001,2021999):\n",
    "    url = f'https://data.edu.az/az/verified/{page_num}/'\n",
    "    page = requests.get(url)\n",
    "    html = BeautifulSoup(page.content, 'html.parser')\n",
    "    student = html.find_all('h1', class_ = 'kingster-page-title')\n",
    "    for i in range (len(student)):\n",
    "        surname_cleaned=re.sub('<[^>]+>' , ' ', str(student[i])).strip().split()[1]\n",
    "        surname.append({'page':page_num,'surname':surname_cleaned})\n",
    "        surname_df=pd.DataFrame(surname)\n",
    "surname_df"
   ]
  },
  {
   "cell_type": "code",
   "execution_count": null,
   "id": "bb35baf2-7aee-4eae-a26c-721687f8987c",
   "metadata": {},
   "outputs": [],
   "source": []
  },
  {
   "cell_type": "code",
   "execution_count": null,
   "id": "741b4426-c0c5-4c40-ad5d-9d26d78e0f90",
   "metadata": {},
   "outputs": [],
   "source": []
  },
  {
   "cell_type": "code",
   "execution_count": null,
   "id": "f60ad481-50f4-4743-a4ed-093139e9dfaf",
   "metadata": {},
   "outputs": [],
   "source": []
  },
  {
   "cell_type": "code",
   "execution_count": null,
   "id": "a04835f4-0dd3-4eb3-b11d-81785a9ca64b",
   "metadata": {},
   "outputs": [],
   "source": []
  },
  {
   "cell_type": "code",
   "execution_count": null,
   "id": "7b81465d-8859-4e2a-8f9a-9784b7ca9bd2",
   "metadata": {},
   "outputs": [],
   "source": []
  },
  {
   "cell_type": "code",
   "execution_count": null,
   "id": "30ddbe1a-1e6e-4bf1-ab63-99f25923f0a3",
   "metadata": {},
   "outputs": [],
   "source": [
    "%%time\n",
    "name=[]\n",
    "name_df=pd.DataFrame()\n",
    "for page_num in range(2021001,2021999):\n",
    "    url = f'https://data.edu.az/az/verified/{page_num}/'\n",
    "    page = requests.get(url)\n",
    "    html = BeautifulSoup(page.content, 'html.parser')\n",
    "    student = html.find_all('h1', class_ = 'kingster-page-title')\n",
    "    for i in range (len(student)):\n",
    "        name_cleaned=re.sub('<[^>]+>' , ' ', str(student[i])).strip().split()[0]\n",
    "        name.append({'page':page_num,'name':name_cleaned})\n",
    "        name_df=pd.DataFrame(name)\n",
    "name_df"
   ]
  },
  {
   "cell_type": "code",
   "execution_count": null,
   "id": "d89ab55c-64cb-4809-82d5-f445ca109285",
   "metadata": {},
   "outputs": [],
   "source": []
  },
  {
   "cell_type": "code",
   "execution_count": null,
   "id": "b5e35932-1919-4d3c-bdd0-2a440445e08f",
   "metadata": {},
   "outputs": [],
   "source": []
  },
  {
   "cell_type": "code",
   "execution_count": null,
   "id": "3f904606-da6a-4999-9066-3e2d3b5babec",
   "metadata": {},
   "outputs": [],
   "source": []
  },
  {
   "cell_type": "code",
   "execution_count": null,
   "id": "fb2b7841-1213-4d62-9a10-639affe99c21",
   "metadata": {},
   "outputs": [],
   "source": []
  },
  {
   "cell_type": "code",
   "execution_count": null,
   "id": "c67442e9-d0ec-4fea-ac28-2d5d4f687b11",
   "metadata": {},
   "outputs": [],
   "source": []
  },
  {
   "cell_type": "code",
   "execution_count": null,
   "id": "64f0aadf-b2ce-4d13-8f12-70d36ecfeb74",
   "metadata": {},
   "outputs": [],
   "source": [
    "%%time\n",
    "course=[]\n",
    "course_df=pd.DataFrame()\n",
    "\n",
    "for page_num in range(2021001,2021999):\n",
    "    url = f'https://data.edu.az/az/verified/{page_num}/'\n",
    "    page = requests.get(url)\n",
    "    html = BeautifulSoup(page.content, 'html.parser')\n",
    "    course_info = html.find_all('h1', style = 'color: #002347;font-size: 25px;')\n",
    "    for i in range (len(course_info)):\n",
    "        course_cleaned=re.sub('<[^>]+>' , ' ', str(course_info[i])).strip()\n",
    "        course.append({'page':page_num,'course_name':course_cleaned})\n",
    "        course_df=pd.DataFrame(course)\n",
    "course_df"
   ]
  },
  {
   "cell_type": "code",
   "execution_count": null,
   "id": "57a2865a-f640-4725-92bd-689d72949be9",
   "metadata": {},
   "outputs": [],
   "source": []
  },
  {
   "cell_type": "code",
   "execution_count": null,
   "id": "ec10135f-dfc3-47aa-bbf8-148b2b251964",
   "metadata": {},
   "outputs": [],
   "source": []
  },
  {
   "cell_type": "code",
   "execution_count": null,
   "id": "8c5b1f5d-1875-4078-bc3e-309da08f716e",
   "metadata": {},
   "outputs": [],
   "source": []
  },
  {
   "cell_type": "code",
   "execution_count": null,
   "id": "df0286bb-a12e-412e-bf3d-31e3c2fd321c",
   "metadata": {},
   "outputs": [],
   "source": []
  },
  {
   "cell_type": "code",
   "execution_count": null,
   "id": "41301699-f18e-4933-95d7-7ece2d7800cd",
   "metadata": {},
   "outputs": [],
   "source": []
  },
  {
   "cell_type": "code",
   "execution_count": null,
   "id": "44fd7580-fcc3-46d4-b319-61c28a857379",
   "metadata": {},
   "outputs": [],
   "source": [
    "%%time\n",
    "graduate_date_info=[]\n",
    "graduate_date_info_df=pd.DataFrame()\n",
    "for page_num in range(2021001,2021999):\n",
    "    url = f'https://data.edu.az/az/verified/{page_num}/'\n",
    "    page = requests.get(url)\n",
    "    html = BeautifulSoup(page.content, 'html.parser')\n",
    "    details = html.find_all('div',class_='course-details')\n",
    "    for i in range(len(details)):\n",
    "        graduate_cleaned='-'.join((re.sub('<[^>]+>' , ' ', str(details)).strip().split(' ')[12:15]))\n",
    "        graduate_date_info.append({'page':page_num,'graduate_date':graduate_cleaned})\n",
    "        graduate_date_info_df=pd.DataFrame(graduate_date_info)    \n",
    "graduate_date_info_df"
   ]
  },
  {
   "cell_type": "code",
   "execution_count": null,
   "id": "23bd3736-bed7-4122-bcae-0884ae8bb667",
   "metadata": {},
   "outputs": [],
   "source": []
  },
  {
   "cell_type": "code",
   "execution_count": null,
   "id": "8bafe86b-3a0d-45aa-b806-ba1e617e1979",
   "metadata": {},
   "outputs": [],
   "source": []
  },
  {
   "cell_type": "code",
   "execution_count": null,
   "id": "8b17dafb-2ae0-4a01-962e-d8bcb03db994",
   "metadata": {},
   "outputs": [],
   "source": []
  },
  {
   "cell_type": "code",
   "execution_count": null,
   "id": "39db0d70-2a71-4a66-b26f-d73893ef9de9",
   "metadata": {},
   "outputs": [],
   "source": []
  },
  {
   "cell_type": "code",
   "execution_count": null,
   "id": "f75bb46a-91ed-40b2-b3f9-7d1b7071b00f",
   "metadata": {},
   "outputs": [],
   "source": []
  },
  {
   "cell_type": "code",
   "execution_count": null,
   "id": "6592cc31-2f7e-435f-b92a-ceff29e7df3e",
   "metadata": {},
   "outputs": [],
   "source": []
  },
  {
   "cell_type": "code",
   "execution_count": null,
   "id": "aa496ce7-f0de-4876-ae22-282e5dd92ae0",
   "metadata": {},
   "outputs": [],
   "source": []
  },
  {
   "cell_type": "code",
   "execution_count": null,
   "id": "771af18f-95f8-4ba0-a3f8-379bc8831802",
   "metadata": {},
   "outputs": [],
   "source": [
    "%%time\n",
    "duration_info=[]\n",
    "duration_info_df=pd.DataFrame()\n",
    "for page_num in range(2021001,2021999):\n",
    "    url = f'https://data.edu.az/az/verified/{page_num}/'\n",
    "    page = requests.get(url)\n",
    "    html = BeautifulSoup(page.content, 'html.parser')\n",
    "    details = html.find_all('div',class_='course-details')\n",
    "    for i in range(len(details)):\n",
    "        duration_cleaned=re.sub('<[^>]+>' , ' ', str(details[i])).strip().split(' ')[16:17][0].replace(',','')\n",
    "        duration_info.append({'page':page_num,'duration_with_month':duration_cleaned})\n",
    "        duration_info_df=pd.DataFrame(duration_info)    \n",
    "duration_info_df\n",
    "\n"
   ]
  },
  {
   "cell_type": "code",
   "execution_count": null,
   "id": "b6e40357-12e1-4fa1-a570-f9971cfa3e9c",
   "metadata": {},
   "outputs": [],
   "source": []
  },
  {
   "cell_type": "code",
   "execution_count": null,
   "id": "3e5d7f2c-bbb3-4f8c-8645-604c7f3d1f41",
   "metadata": {},
   "outputs": [],
   "source": []
  },
  {
   "cell_type": "code",
   "execution_count": null,
   "id": "0f7e9d9c-3505-4877-b853-792de911ed2a",
   "metadata": {},
   "outputs": [],
   "source": []
  },
  {
   "cell_type": "code",
   "execution_count": null,
   "id": "bdb970e4-a6dc-47ff-a641-0c95779ff057",
   "metadata": {},
   "outputs": [],
   "source": [
    "%%time\n",
    "duration_info_week=[]\n",
    "duration_info_week_df=pd.DataFrame()\n",
    "for page_num in range(2021001,2021999):\n",
    "    url = f'https://data.edu.az/az/verified/{page_num}/'\n",
    "    page = requests.get(url)\n",
    "    html = BeautifulSoup(page.content, 'html.parser')\n",
    "    details = html.find_all('div',class_='course-details')\n",
    "    for i in range(len(details)):\n",
    "        duration_week_cleaned='-'.join(re.sub('<[^>]+>' , ' ', str(details[i])).strip().split(' ')[17:18]).replace(',','')\n",
    "        duration_info_week.append({'page':page_num,'duration_with_week':duration_week_cleaned})\n",
    "        duration_info_week_df=pd.DataFrame(duration_info_week)    \n",
    "duration_info_week_df\n",
    "\n"
   ]
  },
  {
   "cell_type": "code",
   "execution_count": null,
   "id": "1ebfb852-4cb6-4898-9af3-528b3bf4e1c4",
   "metadata": {},
   "outputs": [],
   "source": []
  },
  {
   "cell_type": "code",
   "execution_count": null,
   "id": "29b5e02a-b70c-4f60-8f2b-ad945b342a1f",
   "metadata": {},
   "outputs": [],
   "source": []
  },
  {
   "cell_type": "code",
   "execution_count": null,
   "id": "9dc74398-cf2d-418d-8914-b2f5c0a69a73",
   "metadata": {},
   "outputs": [],
   "source": []
  },
  {
   "cell_type": "code",
   "execution_count": null,
   "id": "3111508f-d104-4306-b06c-354bf53e7b50",
   "metadata": {},
   "outputs": [],
   "source": []
  },
  {
   "cell_type": "code",
   "execution_count": null,
   "id": "7553e8ce-f04e-4cfc-876b-0ed33ed5c806",
   "metadata": {},
   "outputs": [],
   "source": [
    "%%time\n",
    "cert_list=[]\n",
    "cert_list_df=pd.DataFrame()\n",
    "for page_num in range(2021001,2021999):\n",
    "    url = f'https://data.edu.az/az/verified/{page_num}/'\n",
    "    page = requests.get(url)\n",
    "    html = BeautifulSoup(page.content, 'html.parser')\n",
    "    link_details = html.find_all('input',style='width:70%;display: inline-flex')\n",
    "    for i in range(len(link_details)):\n",
    "        link_details_cleaned=str(link_details).strip().split(' ')[-1].replace('value=\"','').replace('\"/>]','')\n",
    "        cert_list.append({'page':page_num,'certification_link':link_details_cleaned})\n",
    "        cert_list_df=pd.DataFrame(cert_list)    \n",
    "cert_list_df\n",
    "\n"
   ]
  },
  {
   "cell_type": "code",
   "execution_count": null,
   "id": "98f07813-1068-434e-8330-f6fa9f91955e",
   "metadata": {},
   "outputs": [],
   "source": []
  },
  {
   "cell_type": "code",
   "execution_count": null,
   "id": "bd6f18d3-6701-46c3-9dc0-a9230e9e3950",
   "metadata": {},
   "outputs": [],
   "source": []
  },
  {
   "cell_type": "code",
   "execution_count": 295,
   "id": "71377944-9ad9-4d27-9346-df2b1f6a1124",
   "metadata": {},
   "outputs": [],
   "source": [
    "name_surname=name_df.merge(surname_df, how='inner', on='page')"
   ]
  },
  {
   "cell_type": "code",
   "execution_count": 296,
   "id": "b052cb3c-621e-4452-83c0-56bab0dbb5e1",
   "metadata": {},
   "outputs": [],
   "source": [
    "course_name=name_surname.merge(course_df, how='inner', on='page')"
   ]
  },
  {
   "cell_type": "code",
   "execution_count": 297,
   "id": "448d78f2-d4ca-4307-a428-1154864af288",
   "metadata": {},
   "outputs": [],
   "source": [
    "course_name_graduate=course_name.merge(graduate_date_info_df, how='inner', on='page')"
   ]
  },
  {
   "cell_type": "code",
   "execution_count": 298,
   "id": "e3e3e06d-dc9b-46b1-8b09-55092cd6b362",
   "metadata": {},
   "outputs": [],
   "source": [
    "course_name_graduate_dur_month=course_name_graduate.merge(duration_info_df, how='inner', on='page')"
   ]
  },
  {
   "cell_type": "code",
   "execution_count": 299,
   "id": "a3a68b6e-d224-452f-aaaf-03b27e9596a9",
   "metadata": {},
   "outputs": [],
   "source": [
    "course_name_graduate_dur_month_week=course_name_graduate_dur_month.merge(duration_info_week_df, how='inner', on='page')"
   ]
  },
  {
   "cell_type": "code",
   "execution_count": 300,
   "id": "29c6899f-15f6-411c-834a-00593c750931",
   "metadata": {},
   "outputs": [],
   "source": [
    "df=course_name_graduate_dur_month_week.merge(cert_list_df, how='inner', on='page')"
   ]
  },
  {
   "cell_type": "code",
   "execution_count": 301,
   "id": "f0de22f4-15e9-48ea-9e1e-ffe01e988e7e",
   "metadata": {},
   "outputs": [],
   "source": [
    "df.to_excel('kurs_2021.xlsx', engine='xlsxwriter')"
   ]
  },
  {
   "cell_type": "code",
   "execution_count": null,
   "id": "a089cd22-048a-4e65-a16b-e855985af8b8",
   "metadata": {},
   "outputs": [],
   "source": []
  },
  {
   "cell_type": "code",
   "execution_count": null,
   "id": "859a27ee-2aeb-4bd6-ad30-e2e71200120c",
   "metadata": {},
   "outputs": [],
   "source": []
  },
  {
   "cell_type": "code",
   "execution_count": null,
   "id": "b00b6a36-5a9c-4949-92e6-7484896ac218",
   "metadata": {},
   "outputs": [],
   "source": []
  },
  {
   "cell_type": "code",
   "execution_count": null,
   "id": "a565f285-8153-4077-aa32-160be7d7f4e0",
   "metadata": {},
   "outputs": [],
   "source": []
  },
  {
   "cell_type": "code",
   "execution_count": null,
   "id": "ce7b2697-2824-45bd-8232-ae6bc73e4f34",
   "metadata": {},
   "outputs": [],
   "source": []
  },
  {
   "cell_type": "markdown",
   "id": "76cfecf0-339a-454f-ab09-2dad7216e9d9",
   "metadata": {},
   "source": [
    "## starting main loop"
   ]
  },
  {
   "cell_type": "code",
   "execution_count": 14,
   "id": "e170547a-3769-4cdd-b6cb-f4df1fcb0a6f",
   "metadata": {},
   "outputs": [
    {
     "name": "stdout",
     "output_type": "stream",
     "text": [
      "CPU times: total: 3min 35s\n",
      "Wall time: 1h 14min 39s\n"
     ]
    }
   ],
   "source": [
    "%%time\n",
    "\n",
    "name=[]\n",
    "name_df=pd.DataFrame()\n",
    "\n",
    "course=[]\n",
    "course_df=pd.DataFrame()\n",
    "\n",
    "graduate_date_info=[]\n",
    "graduate_date_info_df=pd.DataFrame()\n",
    "\n",
    "duration_info=[]\n",
    "duration_info_df=pd.DataFrame()\n",
    "\n",
    "cert_list=[]\n",
    "cert_list_df=pd.DataFrame()\n",
    "\n",
    "for page_num in range(2010001,2022300):\n",
    "    url = f'https://data.edu.az/az/verified/{page_num}/'\n",
    "    page = requests.get(url)\n",
    "    html = BeautifulSoup(page.content, 'html.parser')\n",
    "    student = html.find_all('h1', class_ = 'kingster-page-title')\n",
    "    course_info = html.find_all('h1', style = 'color: #002347;font-size: 25px;')\n",
    "    details = html.find_all('div',class_='course-details')\n",
    "    link_details = html.find_all('input',style='width:70%;display: inline-flex')\n",
    "    for i in range (len(student)):\n",
    "        name_cl=' '.join(re.sub('<[^>]+>' , ' ', str(student[i])).strip().split())\n",
    "        name.append({'page':page_num,'name':name_cl})\n",
    "        name_df=pd.DataFrame(name)\n",
    "    for i in range (len(course_info)):\n",
    "        course_cleaned=re.sub('<[^>]+>' , ' ', str(course_info[i])).strip()\n",
    "        course.append({'page':page_num,'course_name':course_cleaned})\n",
    "        course_df=pd.DataFrame(course)\n",
    "    for i in range(len(details)):\n",
    "        graduate_cleaned='-'.join((re.sub('<[^>]+>' , ' ', str(details)).strip().split(' ')[12:15]))\n",
    "        graduate_date_info.append({'page':page_num,'graduate_date':graduate_cleaned})\n",
    "        graduate_date_info_df=pd.DataFrame(graduate_date_info) \n",
    "    for i in range(len(details)):\n",
    "        duration_cleaned=re.sub('<[^>]+>' , ' ', str(details[i])).strip().split(' ')[16:17][0].replace(',','')\n",
    "        duration_info.append({'page':page_num,'duration_with_month':duration_cleaned})\n",
    "        duration_info_df=pd.DataFrame(duration_info)\n",
    "    for i in range(len(link_details)):\n",
    "        link_details_cleaned=str(link_details).strip().split(' ')[-1].replace('value=\"','').replace('\"/>]','')\n",
    "        cert_list.append({'page':page_num,'certification_link':link_details_cleaned})\n",
    "        cert_list_df=pd.DataFrame(cert_list)\n",
    "df=name_df.merge(course_df,how='inner', \n",
    "                 on='page').merge(graduate_date_info_df,\n",
    "                                  how='inner', on='page').merge(duration_info_df,\n",
    "                                                                how='inner',on='page').merge(cert_list_df,\n",
    "                                                                                             how='inner',on='page')"
   ]
  },
  {
   "cell_type": "code",
   "execution_count": 15,
   "id": "4fb92fe1-d540-43c9-a1c2-059027dd628a",
   "metadata": {},
   "outputs": [
    {
     "data": {
      "text/html": [
       "<div>\n",
       "<style scoped>\n",
       "    .dataframe tbody tr th:only-of-type {\n",
       "        vertical-align: middle;\n",
       "    }\n",
       "\n",
       "    .dataframe tbody tr th {\n",
       "        vertical-align: top;\n",
       "    }\n",
       "\n",
       "    .dataframe thead th {\n",
       "        text-align: right;\n",
       "    }\n",
       "</style>\n",
       "<table border=\"1\" class=\"dataframe\">\n",
       "  <thead>\n",
       "    <tr style=\"text-align: right;\">\n",
       "      <th></th>\n",
       "      <th>page</th>\n",
       "      <th>name</th>\n",
       "      <th>course_name</th>\n",
       "      <th>graduate_date</th>\n",
       "      <th>duration_with_month</th>\n",
       "      <th>certification_link</th>\n",
       "    </tr>\n",
       "  </thead>\n",
       "  <tbody>\n",
       "    <tr>\n",
       "      <th>0</th>\n",
       "      <td>2011101</td>\n",
       "      <td>Ilkin Mehdiyev</td>\n",
       "      <td>Data Science with R</td>\n",
       "      <td>30-İyun-2019</td>\n",
       "      <td>2</td>\n",
       "      <td>https://data.edu.az/verified/2011101/</td>\n",
       "    </tr>\n",
       "    <tr>\n",
       "      <th>1</th>\n",
       "      <td>2011215</td>\n",
       "      <td>Nurlan Umarov</td>\n",
       "      <td>Sales Analytics and Predictive Marketing</td>\n",
       "      <td>8-Aprel-2020</td>\n",
       "      <td>2</td>\n",
       "      <td>https://data.edu.az/verified/2011215/</td>\n",
       "    </tr>\n",
       "    <tr>\n",
       "      <th>2</th>\n",
       "      <td>2011216</td>\n",
       "      <td>Nurlan Umarov</td>\n",
       "      <td>Sales Analytics and Predictive Marketing</td>\n",
       "      <td>8-Aprel-2020</td>\n",
       "      <td>2</td>\n",
       "      <td>https://data.edu.az/verified/2011216/</td>\n",
       "    </tr>\n",
       "    <tr>\n",
       "      <th>3</th>\n",
       "      <td>2011390</td>\n",
       "      <td>Taleh Salmanov</td>\n",
       "      <td>Oracle Database SQL</td>\n",
       "      <td>16-Yanvar-2020</td>\n",
       "      <td>3</td>\n",
       "      <td>https://data.edu.az/verified/2011390/</td>\n",
       "    </tr>\n",
       "    <tr>\n",
       "      <th>4</th>\n",
       "      <td>2011391</td>\n",
       "      <td>Anvar Alibayov</td>\n",
       "      <td>Oracle Database SQL</td>\n",
       "      <td>16-Yanvar-2020</td>\n",
       "      <td>3</td>\n",
       "      <td>https://data.edu.az/verified/2011391/</td>\n",
       "    </tr>\n",
       "    <tr>\n",
       "      <th>...</th>\n",
       "      <td>...</td>\n",
       "      <td>...</td>\n",
       "      <td>...</td>\n",
       "      <td>...</td>\n",
       "      <td>...</td>\n",
       "      <td>...</td>\n",
       "    </tr>\n",
       "    <tr>\n",
       "      <th>424</th>\n",
       "      <td>2022256</td>\n",
       "      <td>Jalal Jalalzade</td>\n",
       "      <td>Data Science with Python</td>\n",
       "      <td>21-Sentyabr-2022</td>\n",
       "      <td>3months</td>\n",
       "      <td>https://data.edu.az/verified/2022256/</td>\n",
       "    </tr>\n",
       "    <tr>\n",
       "      <th>425</th>\n",
       "      <td>2022257</td>\n",
       "      <td>Mugdat Hajizade</td>\n",
       "      <td>Data Science with Python</td>\n",
       "      <td>21-Sentyabr-2022</td>\n",
       "      <td>3months</td>\n",
       "      <td>https://data.edu.az/verified/2022257/</td>\n",
       "    </tr>\n",
       "    <tr>\n",
       "      <th>426</th>\n",
       "      <td>2022258</td>\n",
       "      <td>Almaz Jafarova</td>\n",
       "      <td>Data Science with Python</td>\n",
       "      <td>21-Sentyabr-2022</td>\n",
       "      <td>3months</td>\n",
       "      <td>https://data.edu.az/verified/2022258/</td>\n",
       "    </tr>\n",
       "    <tr>\n",
       "      <th>427</th>\n",
       "      <td>2022259</td>\n",
       "      <td>Maral Guseynova</td>\n",
       "      <td>Data Science with Python</td>\n",
       "      <td>21-Sentyabr-2022</td>\n",
       "      <td>3months</td>\n",
       "      <td>https://data.edu.az/verified/2022259/</td>\n",
       "    </tr>\n",
       "    <tr>\n",
       "      <th>428</th>\n",
       "      <td>2022260</td>\n",
       "      <td>Kanan İsmayilov</td>\n",
       "      <td>Data Science with Python</td>\n",
       "      <td>21-Sentyabr-2022</td>\n",
       "      <td>3months</td>\n",
       "      <td>https://data.edu.az/verified/2022260/</td>\n",
       "    </tr>\n",
       "  </tbody>\n",
       "</table>\n",
       "<p>429 rows × 6 columns</p>\n",
       "</div>"
      ],
      "text/plain": [
       "        page             name                               course_name  \\\n",
       "0    2011101   Ilkin Mehdiyev                       Data Science with R   \n",
       "1    2011215    Nurlan Umarov  Sales Analytics and Predictive Marketing   \n",
       "2    2011216    Nurlan Umarov  Sales Analytics and Predictive Marketing   \n",
       "3    2011390   Taleh Salmanov                       Oracle Database SQL   \n",
       "4    2011391   Anvar Alibayov                       Oracle Database SQL   \n",
       "..       ...              ...                                       ...   \n",
       "424  2022256  Jalal Jalalzade                  Data Science with Python   \n",
       "425  2022257  Mugdat Hajizade                  Data Science with Python   \n",
       "426  2022258   Almaz Jafarova                  Data Science with Python   \n",
       "427  2022259  Maral Guseynova                  Data Science with Python   \n",
       "428  2022260  Kanan İsmayilov                  Data Science with Python   \n",
       "\n",
       "        graduate_date duration_with_month  \\\n",
       "0        30-İyun-2019                   2   \n",
       "1        8-Aprel-2020                   2   \n",
       "2        8-Aprel-2020                   2   \n",
       "3      16-Yanvar-2020                   3   \n",
       "4      16-Yanvar-2020                   3   \n",
       "..                ...                 ...   \n",
       "424  21-Sentyabr-2022             3months   \n",
       "425  21-Sentyabr-2022             3months   \n",
       "426  21-Sentyabr-2022             3months   \n",
       "427  21-Sentyabr-2022             3months   \n",
       "428  21-Sentyabr-2022             3months   \n",
       "\n",
       "                        certification_link  \n",
       "0    https://data.edu.az/verified/2011101/  \n",
       "1    https://data.edu.az/verified/2011215/  \n",
       "2    https://data.edu.az/verified/2011216/  \n",
       "3    https://data.edu.az/verified/2011390/  \n",
       "4    https://data.edu.az/verified/2011391/  \n",
       "..                                     ...  \n",
       "424  https://data.edu.az/verified/2022256/  \n",
       "425  https://data.edu.az/verified/2022257/  \n",
       "426  https://data.edu.az/verified/2022258/  \n",
       "427  https://data.edu.az/verified/2022259/  \n",
       "428  https://data.edu.az/verified/2022260/  \n",
       "\n",
       "[429 rows x 6 columns]"
      ]
     },
     "execution_count": 15,
     "metadata": {},
     "output_type": "execute_result"
    }
   ],
   "source": [
    "df"
   ]
  },
  {
   "cell_type": "code",
   "execution_count": 16,
   "id": "2a650506-6d9f-44ce-b7b8-238e4c9b02d0",
   "metadata": {},
   "outputs": [],
   "source": [
    "df.to_excel('last.xlsx', engine='xlsxwriter')"
   ]
  },
  {
   "cell_type": "code",
   "execution_count": null,
   "id": "b989ec4c-f6ae-4bd0-9009-1486c9a3c1be",
   "metadata": {},
   "outputs": [],
   "source": []
  },
  {
   "cell_type": "code",
   "execution_count": null,
   "id": "72d39c43-4a5d-49b2-a9a0-e5bf19fbb1e6",
   "metadata": {},
   "outputs": [],
   "source": []
  }
 ],
 "metadata": {
  "kernelspec": {
   "display_name": "Python 3 (ipykernel)",
   "language": "python",
   "name": "python3"
  },
  "language_info": {
   "codemirror_mode": {
    "name": "ipython",
    "version": 3
   },
   "file_extension": ".py",
   "mimetype": "text/x-python",
   "name": "python",
   "nbconvert_exporter": "python",
   "pygments_lexer": "ipython3",
   "version": "3.9.7"
  }
 },
 "nbformat": 4,
 "nbformat_minor": 5
}
